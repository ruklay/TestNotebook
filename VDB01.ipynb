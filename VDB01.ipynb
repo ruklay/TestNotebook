{
 "cells": [
  {
   "cell_type": "code",
   "execution_count": 1,
   "id": "0ae5656f-c066-498d-b882-ee3179660d49",
   "metadata": {},
   "outputs": [],
   "source": [
    "import sqlite3"
   ]
  },
  {
   "cell_type": "code",
   "execution_count": 5,
   "id": "aa11b590-ec66-46d8-9ae9-9f4707d1a2f8",
   "metadata": {},
   "outputs": [],
   "source": [
    "conn = sqlite3.connect('test.db')\n",
    "cursor = conn.cursor()"
   ]
  },
  {
   "cell_type": "code",
   "execution_count": 7,
   "id": "dc1c55c4-0d57-46fa-b9fa-8a2271ec3d5b",
   "metadata": {},
   "outputs": [],
   "source": [
    "result = cursor.execute(\n",
    "        \"\"\"\n",
    "        CREATE TABLE IF NOT EXISTS employees (\n",
    "            id INTEGER PRIMARY KEY,\n",
    "            name TEXT NOT NULL,\n",
    "            age INTEGER,\n",
    "            department TEXT\n",
    "        )\n",
    "        \"\"\"\n",
    "        )"
   ]
  },
  {
   "cell_type": "code",
   "execution_count": 9,
   "id": "b61b1c33-3ecf-47b7-aaf7-2107ee0bf77a",
   "metadata": {},
   "outputs": [],
   "source": [
    "result = cursor.execute(\n",
    "        \"INSERT INTO employees (name, age, department) VALUES (?, ?, ?)\"\n",
    "        , ('John Doe', 30, 'Sales')\n",
    "        )"
   ]
  },
  {
   "cell_type": "code",
   "execution_count": 11,
   "id": "2a1acb2f-c200-4d29-a7a3-97d3c7705de2",
   "metadata": {},
   "outputs": [
    {
     "data": {
      "text/plain": [
       "[(1, 'John Doe', 30, 'Sales'), (2, 'John Doe', 30, 'Sales')]"
      ]
     },
     "execution_count": 11,
     "metadata": {},
     "output_type": "execute_result"
    }
   ],
   "source": [
    "cursor.execute(\"SELECT * FROM employees\")\n",
    "rows = cursor.fetchall()\n",
    "rows"
   ]
  },
  {
   "cell_type": "code",
   "execution_count": 13,
   "id": "50f7c3db-8e76-4671-93a9-a71e526e8a89",
   "metadata": {},
   "outputs": [],
   "source": [
    "conn.commit()\n",
    "conn.close()"
   ]
  }
 ],
 "metadata": {
  "kernelspec": {
   "display_name": "Python 3 (ipykernel)",
   "language": "python",
   "name": "python3"
  },
  "language_info": {
   "codemirror_mode": {
    "name": "ipython",
    "version": 3
   },
   "file_extension": ".py",
   "mimetype": "text/x-python",
   "name": "python",
   "nbconvert_exporter": "python",
   "pygments_lexer": "ipython3",
   "version": "3.12.4"
  }
 },
 "nbformat": 4,
 "nbformat_minor": 5
}
